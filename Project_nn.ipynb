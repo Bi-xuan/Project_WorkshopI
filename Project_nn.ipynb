{
 "cells": [
  {
   "cell_type": "markdown",
   "id": "9b0b0f53-03e8-4c97-a367-96c8e382f64c",
   "metadata": {},
   "source": [
    "## 1. Build the neural network"
   ]
  },
  {
   "cell_type": "code",
   "execution_count": 13,
   "id": "35c3d2f2-d126-4f6b-a425-e5c6f8e83459",
   "metadata": {},
   "outputs": [],
   "source": [
    "import torch\n",
    "import torch.nn as nn\n",
    "import torch.optim as optim\n",
    "\n",
    "# Define a simple neural network class\n",
    "class SimpleNN(nn.Module):\n",
    "    def __init__(self, input_size, hidden_size, output_size):\n",
    "        super(SimpleNN, self).__init__()\n",
    "        self.fc1 = nn.Linear(input_size, hidden_size)\n",
    "        self.relu = nn.ReLU()\n",
    "        self.fc2 = nn.Linear(hidden_size, output_size)\n",
    "\n",
    "    def forward(self, x):\n",
    "        x = self.fc1(x)\n",
    "        x = self.relu(x)\n",
    "        x = self.fc2(x)\n",
    "        return x"
   ]
  },
  {
   "cell_type": "markdown",
   "id": "d980e3d5-fca1-4f0a-8392-4b3f6c36f290",
   "metadata": {},
   "source": [
    "## 2. Initialize the model"
   ]
  },
  {
   "cell_type": "code",
   "execution_count": 40,
   "id": "740c5c89-1dd7-4c78-8048-b975accb6d02",
   "metadata": {},
   "outputs": [],
   "source": [
    "input_size = 11\n",
    "hidden_size = 10\n",
    "output_size = 1  # For regression, output_size is typically 1\n",
    "\n",
    "# Instantiate the model\n",
    "model_nn = SimpleNN(input_size, hidden_size, output_size)\n",
    "\n",
    "# Define loss function and optimizer\n",
    "criterion = nn.MSELoss()\n",
    "optimizer = optim.SGD(model.parameters(), lr=1)"
   ]
  },
  {
   "cell_type": "markdown",
   "id": "1a3bcc60-ad11-4dfe-8ea9-20230dff875e",
   "metadata": {},
   "source": [
    "## 3. Import data"
   ]
  },
  {
   "cell_type": "code",
   "execution_count": 34,
   "id": "ee8e0f8f-3806-495c-ba35-0423dbb03bd1",
   "metadata": {},
   "outputs": [],
   "source": [
    "import pandas as pd\n",
    "from sklearn.model_selection import train_test_split\n",
    "\n",
    "df = pd.read_csv(\"insurance.csv\")\n",
    "\n",
    "# Perform one-hot encoding\n",
    "encoded_df = pd.get_dummies(df, columns=['sex','smoker','region'], prefix=['sex','smoker','region'])\n",
    "columns_to_convert = encoded_df.columns[encoded_df.columns.str.contains('sex_|smoker_|region_')]\n",
    "encoded_df[columns_to_convert] = encoded_df[columns_to_convert].astype(int)\n",
    "\n",
    "# Split the data into 80% training and 20% testing\n",
    "X_train, X_test, y_train, y_test = train_test_split(encoded_df.drop('charges', axis=1), encoded_df['charges'], test_size=0.2, random_state=42)"
   ]
  },
  {
   "cell_type": "code",
   "execution_count": 42,
   "id": "66b18258-e0dd-4d30-9071-e8eded68c697",
   "metadata": {},
   "outputs": [
    {
     "name": "stdout",
     "output_type": "stream",
     "text": [
      "Epoch [1000/10000], Loss: 322453120.0000\n",
      "Epoch [2000/10000], Loss: 322453120.0000\n",
      "Epoch [3000/10000], Loss: 322453120.0000\n",
      "Epoch [4000/10000], Loss: 322453120.0000\n",
      "Epoch [5000/10000], Loss: 322453120.0000\n",
      "Epoch [6000/10000], Loss: 322453120.0000\n",
      "Epoch [7000/10000], Loss: 322453120.0000\n",
      "Epoch [8000/10000], Loss: 322453120.0000\n",
      "Epoch [9000/10000], Loss: 322453120.0000\n",
      "Epoch [10000/10000], Loss: 322453120.0000\n"
     ]
    }
   ],
   "source": [
    "X_train_tensor = torch.FloatTensor(X_train.values)\n",
    "y_train_tensor = torch.FloatTensor(y_train.values).view(-1)\n",
    "\n",
    "num_epochs = 10000\n",
    "\n",
    "for epoch in range(num_epochs):\n",
    "    # Forward pass\n",
    "    outputs = model_nn(X_train_tensor)\n",
    "    loss = criterion(outputs.view(-1), y_train_tensor)\n",
    "\n",
    "    # Backward pass and optimization\n",
    "    optimizer.zero_grad()\n",
    "    loss.backward()\n",
    "    optimizer.step()\n",
    "\n",
    "    # Print the loss every 100 epochs\n",
    "    if (epoch + 1) % 1000 == 0:\n",
    "        print(f'Epoch [{epoch+1}/{num_epochs}], Loss: {loss.item():.4f}')"
   ]
  },
  {
   "cell_type": "markdown",
   "id": "359edf8d-9d84-4032-9c07-2a77c3799972",
   "metadata": {},
   "source": [
    "## 5. Test the model"
   ]
  },
  {
   "cell_type": "code",
   "execution_count": 32,
   "id": "8a1bd296-2e7d-4a83-8aea-557d01f1f1f2",
   "metadata": {},
   "outputs": [
    {
     "name": "stdout",
     "output_type": "stream",
     "text": [
      "RMSE on test data: 12465.6094\n"
     ]
    }
   ],
   "source": [
    "from sklearn.metrics import mean_squared_error\n",
    "\n",
    "X_test_tensor = torch.FloatTensor(X_test.values)\n",
    "y_test_tensor = torch.FloatTensor(y_test.values)\n",
    "\n",
    "# Set the model to evaluation mode\n",
    "model_nn.eval()\n",
    "\n",
    "# Make predictions on the test data\n",
    "with torch.no_grad():\n",
    "    y_pred = model(X_test_tensor)\n",
    "\n",
    "# Convert predictions and true values to numpy arrays\n",
    "y_pred_np = y_pred.numpy()\n",
    "y_test_np = y_test_tensor.numpy()\n",
    "\n",
    "# Calculate RMSE\n",
    "rmse = mean_squared_error(y_test_np, y_pred_np, squared=False)\n",
    "print(f'RMSE on test data: {rmse:.4f}')"
   ]
  },
  {
   "cell_type": "code",
   "execution_count": 18,
   "id": "a219653c-f3e5-4172-aa51-a3531a4ffa2c",
   "metadata": {},
   "outputs": [],
   "source": []
  },
  {
   "cell_type": "code",
   "execution_count": 26,
   "id": "45273f69-0594-4ad1-b7d0-55612698abcb",
   "metadata": {},
   "outputs": [
    {
     "name": "stdout",
     "output_type": "stream",
     "text": [
      "      age    bmi  children  sex_female  sex_male  smoker_no  smoker_yes  \\\n",
      "560    46  19.95         2           1         0          1           0   \n",
      "1285   47  24.32         0           1         0          1           0   \n",
      "1142   52  24.86         0           1         0          1           0   \n",
      "969    39  34.32         5           1         0          1           0   \n",
      "486    54  21.47         3           1         0          1           0   \n",
      "\n",
      "      region_northeast  region_northwest  region_southeast  region_southwest  \n",
      "560                  0                 1                 0                 0  \n",
      "1285                 1                 0                 0                 0  \n",
      "1142                 0                 0                 1                 0  \n",
      "969                  0                 0                 1                 0  \n",
      "486                  0                 1                 0                 0  \n"
     ]
    }
   ],
   "source": [
    "print(X_train.head())"
   ]
  }
 ],
 "metadata": {
  "kernelspec": {
   "display_name": "Python 3 (ipykernel)",
   "language": "python",
   "name": "python3"
  },
  "language_info": {
   "codemirror_mode": {
    "name": "ipython",
    "version": 3
   },
   "file_extension": ".py",
   "mimetype": "text/x-python",
   "name": "python",
   "nbconvert_exporter": "python",
   "pygments_lexer": "ipython3",
   "version": "3.9.18"
  }
 },
 "nbformat": 4,
 "nbformat_minor": 5
}
